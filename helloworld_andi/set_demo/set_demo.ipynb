{
 "cells": [
  {
   "cell_type": "code",
   "execution_count": 2,
   "metadata": {},
   "outputs": [
    {
     "data": {
      "text/plain": [
       "{1, 2, 3, 4, 5}"
      ]
     },
     "execution_count": 2,
     "metadata": {},
     "output_type": "execute_result"
    }
   ],
   "source": [
    "x = [1, 2, 3, 4, 5, 1, 2, 3, 4, 5]\n",
    "# 集合就是一个无序的不重复元素的集合，可以使用set()来创建集合\n",
    "x = set(x)\n",
    "x"
   ]
  },
  {
   "cell_type": "code",
   "execution_count": 4,
   "metadata": {},
   "outputs": [
    {
     "data": {
      "text/plain": [
       "{1, 2, 3}"
      ]
     },
     "execution_count": 4,
     "metadata": {},
     "output_type": "execute_result"
    }
   ],
   "source": [
    "y = set([1, 2, 3, 4, 5, 6, 7, 8, 9, 10])\n",
    "# {} 写上就是一个空集合；没有key-value就变成了set\n",
    "z = {1, 1, 2, 3}\n",
    "z"
   ]
  },
  {
   "cell_type": "markdown",
   "metadata": {},
   "source": [
    "集合的操作"
   ]
  },
  {
   "cell_type": "code",
   "execution_count": 23,
   "metadata": {},
   "outputs": [],
   "source": [
    "# 求并集\n",
    "a = {1, 2, 3, 4, 5}\n",
    "b = {4, 5, 6, 7, 8}\n",
    "c = {1, 2, 3, 4, 5, 6, 7, 8}\n",
    "a.union(b)\n",
    "a|b\n",
    "\n",
    "# 求交集\n",
    "a.intersection(b)\n",
    "a & b\n",
    "\n",
    "# 求差集\n",
    "a.difference(b)\n",
    "a - b\n",
    "\n",
    "# 判断子集\n",
    "a.issubset(c)\n",
    "a <= c\n",
    "# c 包含 a\n",
    "\n",
    "# 判断父集\n",
    "c.issuperset(a)\n",
    "\n",
    "# 判断差异\n",
    "\n",
    "# 判断两个集合是否相等\n",
    "a == b\n",
    "\n",
    "a.add(9)\n",
    "a.update([10, 11, 12])\n",
    "# 删除集合中的元素最后一个元素\n",
    "a.pop()\n",
    "a.remove(10)"
   ]
  }
 ],
 "metadata": {
  "interpreter": {
   "hash": "ed225720166559e7176d3793db16a2fd8d295f725007103b21ac3099d2a89ee8"
  },
  "kernelspec": {
   "display_name": "Python 3.8.5 ('base')",
   "language": "python",
   "name": "python3"
  },
  "language_info": {
   "codemirror_mode": {
    "name": "ipython",
    "version": 3
   },
   "file_extension": ".py",
   "mimetype": "text/x-python",
   "name": "python",
   "nbconvert_exporter": "python",
   "pygments_lexer": "ipython3",
   "version": "3.8.5"
  },
  "orig_nbformat": 4
 },
 "nbformat": 4,
 "nbformat_minor": 2
}
