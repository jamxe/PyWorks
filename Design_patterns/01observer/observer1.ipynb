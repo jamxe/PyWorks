{
 "cells": [
  {
   "cell_type": "markdown",
   "metadata": {},
   "source": [
    "code 1-1"
   ]
  },
  {
   "cell_type": "code",
   "execution_count": 1,
   "metadata": {},
   "outputs": [],
   "source": [
    "from abc import ABCMeta, abstractmethod\n",
    "# 引入ABCmeta和abstractmethod来定义抽象类和抽象方法\n",
    "\n",
    "class WaterHeater:\n",
    "    \"热水器\"\n",
    "    def __init__(self):\n",
    "        self.__observer = []\n",
    "        self.__temp = 20\n",
    "    \n",
    "    def getTemp(self):\n",
    "        return self.__temp\n",
    "    def setTemp(self, temp):\n",
    "        self.__temp = temp\n",
    "        print(\"热水器的温度是\" + str(self.__temp) + \"摄氏度\")\n",
    "        self.notifies()\n",
    "    def addObserver(self, observer):\n",
    "        self.__observer.append(observer)\n",
    "    def notifies(self):\n",
    "        for m in self.__observer:\n",
    "            m.update(self)\n",
    "            \n",
    "class Observer(metaclass=ABCMeta):\n",
    "    \"洗澡模式和饮用水模式的分类\"\n",
    "    @abstractmethod\n",
    "    def update(self, waterHeater):\n",
    "        pass\n",
    "\n",
    "class WashingMode(Observer):\n",
    "    def update(self, heater):\n",
    "        if heater.getTemp() >= 50 and heater.getTemp() < 70:\n",
    "            print(\"热水器的水烧好了，可以用来洗澡\")\n",
    "\n",
    "class DrinkingMode(Observer):\n",
    "    \"饮用水\"\n",
    "    def update(self, heater):\n",
    "        if heater.getTemp() >= 100:\n",
    "            print(\"水烧开了，当前温度是\"+str(heater.getTemp())+\"摄氏度\")\n",
    "            \n"
   ]
  },
  {
   "cell_type": "code",
   "execution_count": 2,
   "metadata": {},
   "outputs": [
    {
     "name": "stdout",
     "output_type": "stream",
     "text": [
      "热水器的温度是0摄氏度\n",
      "热水器的温度是100摄氏度\n",
      "水烧开了，当前温度是100摄氏度\n",
      "热水器的温度是60摄氏度\n",
      "热水器的水烧好了，可以用来洗澡\n"
     ]
    }
   ],
   "source": [
    "#测试代码\n",
    "def testHeater():\n",
    "    heater = WaterHeater()\n",
    "    washingObser = WashingMode()\n",
    "    drinkngObser = DrinkingMode()\n",
    "    heater.addObserver(washingObser)\n",
    "    heater.addObserver(drinkngObser)\n",
    "    \n",
    "    heater.setTemp(0)\n",
    "    heater.setTemp(100)\n",
    "    heater.setTemp(60)\n",
    "\n",
    "if __name__ == \"__main__\":\n",
    "    testHeater()"
   ]
  }
 ],
 "metadata": {
  "interpreter": {
   "hash": "ed225720166559e7176d3793db16a2fd8d295f725007103b21ac3099d2a89ee8"
  },
  "kernelspec": {
   "display_name": "Python 3.8.5 ('base')",
   "language": "python",
   "name": "python3"
  },
  "language_info": {
   "codemirror_mode": {
    "name": "ipython",
    "version": 3
   },
   "file_extension": ".py",
   "mimetype": "text/x-python",
   "name": "python",
   "nbconvert_exporter": "python",
   "pygments_lexer": "ipython3",
   "version": "3.8.5"
  },
  "orig_nbformat": 4
 },
 "nbformat": 4,
 "nbformat_minor": 2
}
