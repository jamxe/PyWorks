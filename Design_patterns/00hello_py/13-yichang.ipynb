{
 "cells": [
  {
   "cell_type": "markdown",
   "metadata": {},
   "source": [
    "13-异常处理"
   ]
  },
  {
   "cell_type": "code",
   "execution_count": 9,
   "metadata": {},
   "outputs": [
    {
     "name": "stdout",
     "output_type": "stream",
     "text": [
      "Error: inpu must be interger\n",
      "Error: inpu must be interger\n",
      "Error: inpu must be interger\n",
      "Error: inpu must be interger\n",
      "Error: inpu must be interger\n",
      "Error: inpu must be interger\n",
      "Error: inpu must be interger\n",
      "Error: inpu must be interger\n",
      "Error: inpu must be interger\n",
      "Error: inpu must be interger\n"
     ]
    }
   ],
   "source": [
    "import math\n",
    "\n",
    "for i in range(10):\n",
    "    try:\n",
    "        input_num = input(\"write a num\")\n",
    "        if input_num == 'q':\n",
    "            print(\"you win\")\n",
    "            break\n",
    "        result = math.log(float(input_num))\n",
    "    except ValueError:\n",
    "        print(\"Error: input must be interger\")"
   ]
  },
  {
   "cell_type": "code",
   "execution_count": null,
   "metadata": {},
   "outputs": [],
   "source": []
  }
 ],
 "metadata": {
  "interpreter": {
   "hash": "ed225720166559e7176d3793db16a2fd8d295f725007103b21ac3099d2a89ee8"
  },
  "kernelspec": {
   "display_name": "Python 3.8.5 ('base')",
   "language": "python",
   "name": "python3"
  },
  "language_info": {
   "codemirror_mode": {
    "name": "ipython",
    "version": 3
   },
   "file_extension": ".py",
   "mimetype": "text/x-python",
   "name": "python",
   "nbconvert_exporter": "python",
   "pygments_lexer": "ipython3",
   "version": "3.8.5"
  },
  "orig_nbformat": 4
 },
 "nbformat": 4,
 "nbformat_minor": 2
}
