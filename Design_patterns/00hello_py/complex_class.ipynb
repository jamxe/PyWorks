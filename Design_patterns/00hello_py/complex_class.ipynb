{
 "cells": [
  {
   "cell_type": "code",
   "execution_count": 6,
   "metadata": {},
   "outputs": [
    {
     "name": "stdout",
     "output_type": "stream",
     "text": [
      "name:  Tony\n",
      "age:  18\n",
      "height:  1.75\n",
      "visited:  0\n",
      "\n",
      "name:  Jenny\n",
      "age:  18\n",
      "height:  1.75\n",
      "visited:  1\n",
      "title:  Rust\n"
     ]
    }
   ],
   "source": [
    "class Person:\n",
    "    \"Person\"\n",
    "    visited = 0\n",
    "    def __init__(self, name, age, height):\n",
    "        self.name = name\n",
    "        self._age = age\n",
    "        self.__height = height\n",
    "    def getName(self):\n",
    "        return self.name\n",
    "    def getAge(self):\n",
    "        return self._age\n",
    "    def getHeight(self):\n",
    "        return self.__height\n",
    "    def showInfo(self):\n",
    "        print(\"name: \", self.name)\n",
    "        print(\"age: \", self._age)\n",
    "        print(\"height: \", self.__height)\n",
    "        print(\"visited: \", Person.visited)\n",
    "        Person.visited += 1\n",
    "        \n",
    "class Teacher(Person):\n",
    "    \"Teacher\"\n",
    "    def __init__(self, name, age, height):\n",
    "        super().__init__(name, age, height)\n",
    "        self.__title = None\n",
    "    def getTitle(self):\n",
    "        return self.__title\n",
    "    def setTitle(self, title):\n",
    "        self.__title = title\n",
    "    def showInfo(self):\n",
    "        super().showInfo()\n",
    "        print(\"title: \", self.__title)\n",
    "def testPerson():\n",
    "    \"测试方法\"\n",
    "    tony = Person(\"Tony\", 18, 1.75)\n",
    "    tony.showInfo()\n",
    "    print()\n",
    "    \n",
    "    jenny = Teacher(\"Jenny\", 18, 1.75)\n",
    "    jenny.setTitle(\"Rust\")\n",
    "    jenny.showInfo()\n",
    "\n",
    "testPerson()\n",
    "    "
   ]
  },
  {
   "cell_type": "code",
   "execution_count": null,
   "metadata": {},
   "outputs": [],
   "source": []
  }
 ],
 "metadata": {
  "interpreter": {
   "hash": "ed225720166559e7176d3793db16a2fd8d295f725007103b21ac3099d2a89ee8"
  },
  "kernelspec": {
   "display_name": "Python 3.8.5 ('base')",
   "language": "python",
   "name": "python3"
  },
  "language_info": {
   "codemirror_mode": {
    "name": "ipython",
    "version": 3
   },
   "file_extension": ".py",
   "mimetype": "text/x-python",
   "name": "python",
   "nbconvert_exporter": "python",
   "pygments_lexer": "ipython3",
   "version": "3.8.5"
  },
  "orig_nbformat": 4
 },
 "nbformat": 4,
 "nbformat_minor": 2
}
